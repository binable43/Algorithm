{
  "nbformat": 4,
  "nbformat_minor": 0,
  "metadata": {
    "colab": {
      "name": "BOJ_2914.ipynb",
      "provenance": [],
      "collapsed_sections": []
    },
    "kernelspec": {
      "name": "python3",
      "display_name": "Python 3"
    },
    "language_info": {
      "name": "python"
    }
  },
  "cells": [
    {
      "cell_type": "code",
      "metadata": {
        "id": "raFYyCs-Hj65"
      },
      "source": [
        "#저작권"
      ],
      "execution_count": null,
      "outputs": []
    },
    {
      "cell_type": "code",
      "metadata": {
        "colab": {
          "base_uri": "https://localhost:8080/"
        },
        "id": "5wSFPPVlJgxD",
        "outputId": "c86eaec6-b09f-4ef7-aa38-e261eef7c76f"
      },
      "source": [
        "import math\n",
        "a, i = map(int, input().split())\n",
        "\n",
        "new_i = i - 1\n",
        "avg = (a*new_i) + 1\n",
        "print(avg)"
      ],
      "execution_count": 4,
      "outputs": [
        {
          "output_type": "stream",
          "text": [
            "38 24\n",
            "875\n"
          ],
          "name": "stdout"
        }
      ]
    }
  ]
}