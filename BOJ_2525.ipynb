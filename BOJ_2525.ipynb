{
  "nbformat": 4,
  "nbformat_minor": 0,
  "metadata": {
    "colab": {
      "name": "BOJ_2525.ipynb",
      "provenance": [],
      "collapsed_sections": []
    },
    "kernelspec": {
      "name": "python3",
      "display_name": "Python 3"
    },
    "language_info": {
      "name": "python"
    }
  },
  "cells": [
    {
      "cell_type": "code",
      "metadata": {
        "colab": {
          "base_uri": "https://localhost:8080/"
        },
        "id": "a7NBoCYfYoMK",
        "outputId": "8b5f1c36-cbf3-409f-c51a-ff65317cc6c9"
      },
      "source": [
        "hour, min = map(int, input(\"\").split())  #오븐에 들어가는 현재 시각 입력 받음\n",
        "oven = int(input(\"\"))\t#오븐에 들어갈 시간 구함 (분 단위)\n",
        "\n",
        "hour_oven = oven//60\t#오븐에 들어가는 시간 (시간)\n",
        "min_oven = oven%60\t\t#오븐에 들어가는 시간 (분)\n",
        "\n",
        "hour_new = hour + hour_oven\n",
        "min_new = min + min_oven\n",
        "\n",
        "if min_new > 59:\t\t\t#만일 계산된 분이 60분 이상일 경우\n",
        "  min_new = min_new-60\t\t#1~59분 사이의 분으로 조정\n",
        "  hour_new = hour_new+1\t\t#1시간 더해줌\n",
        "\n",
        "if hour_new > 23:\t\t\t#만일 계산된 시간이 24시간 이상일 경우\n",
        "  hour_new = hour_new-24\t#0~23시 사이의 시간으로 조정\n",
        "\n",
        "print(hour_new, min_new)"
      ],
      "execution_count": 1,
      "outputs": [
        {
          "output_type": "stream",
          "text": [
            "13 40\n",
            "150\n",
            "16 10\n"
          ],
          "name": "stdout"
        }
      ]
    }
  ]
}