{
  "nbformat": 4,
  "nbformat_minor": 0,
  "metadata": {
    "colab": {
      "name": "BOJ_14888.ipynb",
      "provenance": [],
      "collapsed_sections": [],
      "authorship_tag": "ABX9TyNVL3LEUyVDu07GECtjGu0r",
      "include_colab_link": true
    },
    "kernelspec": {
      "name": "python3",
      "display_name": "Python 3"
    },
    "language_info": {
      "name": "python"
    }
  },
  "cells": [
    {
      "cell_type": "markdown",
      "metadata": {
        "id": "view-in-github",
        "colab_type": "text"
      },
      "source": [
        "<a href=\"https://colab.research.google.com/github/binable43/BOJ_Python/blob/main/BOJ_14888.ipynb\" target=\"_parent\"><img src=\"https://colab.research.google.com/assets/colab-badge.svg\" alt=\"Open In Colab\"/></a>"
      ]
    },
    {
      "cell_type": "code",
      "metadata": {
        "id": "dZlYNoXlSZWW"
      },
      "source": [
        "# 연산자 끼워넣기"
      ],
      "execution_count": null,
      "outputs": []
    },
    {
      "cell_type": "code",
      "metadata": {
        "id": "-59l33wCSepW"
      },
      "source": [
        "import sys\n",
        "imput = sys.stdin.readline\n",
        "\n",
        "def math(num, idx, add, sub, mul, div):\n",
        "  global n, max_, min_\n",
        "  if idx == n:\n",
        "    max_ = max(num, max_)\n",
        "    min_ = min(num, min_)\n",
        "    return\n",
        "  else:\n",
        "    if add:\n",
        "      math(num+nums[idx], idx+1, add-1, sub, mul, div)\n",
        "    if sub:\n",
        "      math(num-nums[idx], idx+1, add, sub-1, mul, div)\n",
        "    if mul:\n",
        "      math(num*nums[idx], idx+1, add, sub, mul-1, div)\n",
        "    if div:\n",
        "      math(int(num/nums[idx]), idx+1, add, sub, mul, div-1)\n",
        "\n",
        "if __name__ == \"__main__\":\n",
        "  max_ = -(sys.maxsize) - 1\n",
        "  min_ = sys.maxsize\n",
        "\n",
        "  n = int(input().strip())\n",
        "  nums = list(map(int, input().strip().split()))\n",
        "\n",
        "  a, b, c, d = map(int, input().strip().split())\n",
        "  math(nums[0], 1, a, b, c, d)\n",
        "  print(max_)\n",
        "  print(min_)"
      ],
      "execution_count": null,
      "outputs": []
    }
  ]
}