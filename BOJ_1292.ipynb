{
  "nbformat": 4,
  "nbformat_minor": 0,
  "metadata": {
    "colab": {
      "name": "BOJ_1292.ipynb",
      "provenance": [],
      "collapsed_sections": []
    },
    "kernelspec": {
      "name": "python3",
      "display_name": "Python 3"
    },
    "language_info": {
      "name": "python"
    }
  },
  "cells": [
    {
      "cell_type": "code",
      "metadata": {
        "id": "HxWp967OllrX"
      },
      "source": [
        "#쉽게 푸는 문제"
      ],
      "execution_count": null,
      "outputs": []
    },
    {
      "cell_type": "code",
      "metadata": {
        "colab": {
          "base_uri": "https://localhost:8080/"
        },
        "id": "pYGYlxT5mZ-j",
        "outputId": "c45f90fa-e058-49b8-f37d-ec04bdee1702"
      },
      "source": [
        "n, m = map(int, input().split())\n",
        "\n",
        "a = []\n",
        "sum = 0\n",
        "\n",
        "for i in range(46):\n",
        "  for j in range(i):\n",
        "    a.append(i)\n",
        "\n",
        "for o in range(n-1, m):\n",
        "  sum += a[o]\n",
        "\n",
        "print(sum)\n"
      ],
      "execution_count": 10,
      "outputs": [
        {
          "output_type": "stream",
          "text": [
            "3 7\n",
            "15\n"
          ],
          "name": "stdout"
        }
      ]
    }
  ]
}