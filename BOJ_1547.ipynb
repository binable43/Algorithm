{
  "nbformat": 4,
  "nbformat_minor": 0,
  "metadata": {
    "colab": {
      "name": "BOJ_1547.ipynb",
      "provenance": [],
      "collapsed_sections": []
    },
    "kernelspec": {
      "name": "python3",
      "display_name": "Python 3"
    },
    "language_info": {
      "name": "python"
    }
  },
  "cells": [
    {
      "cell_type": "code",
      "metadata": {
        "id": "AEWYvGvwgezm"
      },
      "source": [
        "#공"
      ],
      "execution_count": null,
      "outputs": []
    },
    {
      "cell_type": "code",
      "metadata": {
        "colab": {
          "base_uri": "https://localhost:8080/"
        },
        "id": "USCkOTT0gi1T",
        "outputId": "7ca85b4b-e869-4857-c0ac-e581da867c7d"
      },
      "source": [
        "a = int(input())\n",
        "\n",
        "b = [1, 2, 3]\n",
        "\n",
        "for _ in range(a):\n",
        "  x, y = map(int, input().split())\n",
        "  x1 = b.index(x)\n",
        "  y1 = b.index(y)\n",
        "  b[x1], b[y1] = b[y1], b[x1]\n",
        "\n",
        "print(b[0])"
      ],
      "execution_count": 5,
      "outputs": [
        {
          "output_type": "stream",
          "text": [
            "4\n",
            "3 1\n",
            "2 3\n",
            "3 1\n",
            "3 2\n",
            "3\n"
          ],
          "name": "stdout"
        }
      ]
    }
  ]
}