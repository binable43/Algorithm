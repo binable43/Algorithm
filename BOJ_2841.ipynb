{
  "nbformat": 4,
  "nbformat_minor": 0,
  "metadata": {
    "colab": {
      "name": "BOJ_2841.ipynb",
      "provenance": [],
      "collapsed_sections": [],
      "authorship_tag": "ABX9TyN3VmjNFYfxWg/3MEE4GiPD",
      "include_colab_link": true
    },
    "kernelspec": {
      "name": "python3",
      "display_name": "Python 3"
    },
    "language_info": {
      "name": "python"
    }
  },
  "cells": [
    {
      "cell_type": "markdown",
      "metadata": {
        "id": "view-in-github",
        "colab_type": "text"
      },
      "source": [
        "<a href=\"https://colab.research.google.com/github/binable43/BOJ_Python/blob/binable43-patch-1/BOJ_2841.ipynb\" target=\"_parent\"><img src=\"https://colab.research.google.com/assets/colab-badge.svg\" alt=\"Open In Colab\"/></a>"
      ]
    },
    {
      "cell_type": "code",
      "metadata": {
        "id": "5w15Mw0rC_ev"
      },
      "source": [
        "#외계인의 기타 연주"
      ],
      "execution_count": null,
      "outputs": []
    },
    {
      "cell_type": "code",
      "metadata": {
        "colab": {
          "base_uri": "https://localhost:8080/"
        },
        "id": "sz9xOdekDDQN",
        "outputId": "43136a0d-1136-437b-b45f-94743cbb4e7e"
      },
      "source": [
        "line = [[] for _ in range(7)]\n",
        "n, p = map(int, input().split())\n",
        "cnt = 0\n",
        "\n",
        "for _ in range(n):\n",
        "  s, pret = map(int, input().split())\n",
        "  \n",
        "  if len(line[s])== 0:\n",
        "    line[s].append(pret)\n",
        "    cnt += 1\n",
        "  \n",
        "  else:\n",
        "    if line[s][-1] < pret:\n",
        "      line[s].append(pret)\n",
        "      cnt += 1\n",
        "    elif line[s][-1] > pret:\n",
        "      while line[s]:\n",
        "        if line[s][-1] < pret or line[s][-1] == pret:\n",
        "          break\n",
        "        line[s].pop()\n",
        "        cnt += 1\n",
        "      if len(line[s]) and line[s][-1] == pret:\n",
        "        continue\n",
        "      line[s].append(pret)\n",
        "      cnt += 1\n",
        "    elif line[s][-1] == pret:\n",
        "      continue\n",
        "\n",
        "print(cnt)"
      ],
      "execution_count": 16,
      "outputs": [
        {
          "output_type": "stream",
          "text": [
            "5 15\n",
            "2 8\n",
            "2 10\n",
            "2 12\n",
            "2 10\n",
            "2 5\n",
            "7\n"
          ],
          "name": "stdout"
        }
      ]
    }
  ]
}