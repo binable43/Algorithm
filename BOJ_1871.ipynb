{
  "nbformat": 4,
  "nbformat_minor": 0,
  "metadata": {
    "colab": {
      "name": "BOJ_1871.ipynb",
      "provenance": [],
      "collapsed_sections": []
    },
    "kernelspec": {
      "name": "python3",
      "display_name": "Python 3"
    },
    "language_info": {
      "name": "python"
    }
  },
  "cells": [
    {
      "cell_type": "code",
      "metadata": {
        "id": "x6ori3heTWKY"
      },
      "source": [
        "#좋은 자동차 번호판"
      ],
      "execution_count": null,
      "outputs": []
    },
    {
      "cell_type": "code",
      "metadata": {
        "id": "BkGDbIFPSiSx"
      },
      "source": [
        "import sys\n",
        "\n",
        "def number(a):\n",
        "    su = 0\n",
        "    for i in range(len(a)):\n",
        "        b = a[::-1]\n",
        "        su += ((ord(b[i]))-65)*(26**i)\n",
        "    return su\n",
        "\n",
        "def result():\n",
        "    num = int(sys.stdin.readline().rstrip())\n",
        "\n",
        "    for i in range(num):\n",
        "        case = sys.stdin.readline().rstrip().split(\"-\")\n",
        "        inf_val = number(case[0])\n",
        "        beh_val = int(case[1])\n",
        "        abs_val = abs(inf_val - beh_val)\n",
        "        if abs_val > 100:\n",
        "            print(\"not nice\")\n",
        "        else:\n",
        "            print(\"nice\")\n",
        "\n",
        "result()"
      ],
      "execution_count": 2,
      "outputs": []
    }
  ]
}