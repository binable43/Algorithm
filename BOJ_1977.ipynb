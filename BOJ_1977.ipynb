{
  "nbformat": 4,
  "nbformat_minor": 0,
  "metadata": {
    "colab": {
      "name": "BOJ_1977.ipynb",
      "provenance": []
    },
    "kernelspec": {
      "name": "python3",
      "display_name": "Python 3"
    },
    "language_info": {
      "name": "python"
    }
  },
  "cells": [
    {
      "cell_type": "code",
      "metadata": {
        "colab": {
          "base_uri": "https://localhost:8080/"
        },
        "id": "y53BYiD4qcan",
        "outputId": "da062a79-2b21-4889-841a-5868b479ad25"
      },
      "source": [
        "m = int(input())\n",
        "n = int(input())\n",
        "\n",
        "square = []\n",
        "i = 1\n",
        "\n",
        "while i**2 <= n:\n",
        "  if m <= i**2 <= n:\n",
        "    square.append(i**2)\n",
        "  i+=1\n",
        "  \n",
        "if square == []:\n",
        "  print(-1)\n",
        "\n",
        "else:\n",
        "  print(sum(square))\n",
        "  print(square[0])"
      ],
      "execution_count": 1,
      "outputs": [
        {
          "output_type": "stream",
          "text": [
            "60\n",
            "160\n",
            "510\n",
            "64\n"
          ],
          "name": "stdout"
        }
      ]
    }
  ]
}