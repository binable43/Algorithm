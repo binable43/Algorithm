{
  "nbformat": 4,
  "nbformat_minor": 0,
  "metadata": {
    "colab": {
      "name": "BOJ_1408.ipynb",
      "provenance": [],
      "collapsed_sections": []
    },
    "kernelspec": {
      "name": "python3",
      "display_name": "Python 3"
    },
    "language_info": {
      "name": "python"
    }
  },
  "cells": [
    {
      "cell_type": "code",
      "metadata": {
        "id": "WUAAhCSYYgw3"
      },
      "source": [
        "#24"
      ],
      "execution_count": null,
      "outputs": []
    },
    {
      "cell_type": "code",
      "metadata": {
        "colab": {
          "base_uri": "https://localhost:8080/"
        },
        "id": "vFBtBoruYl7x",
        "outputId": "24d32bd3-2c40-4472-ddf2-0d2b391569f4"
      },
      "source": [
        "h1, m1, s1 = map(int, input().split(\":\"))\n",
        "h2, m2, s2 = map(int, input().split(\":\"))\n",
        "\n",
        "t = (h2*3600 + m2*60 + s2) - (h1*3600 + m1*60 + s1)\n",
        "\n",
        "if t < 0:\n",
        "  t += 60*60*24\n",
        "\n",
        "h = t // 3600\n",
        "m = (t%3600)//60\n",
        "s = t%60\n",
        "\n",
        "print(\"%02d:%02d:%02d\"%(h,m,s))"
      ],
      "execution_count": 5,
      "outputs": [
        {
          "output_type": "stream",
          "text": [
            "13:52:30\n",
            "14:00:00\n",
            "00:07:30\n"
          ],
          "name": "stdout"
        }
      ]
    }
  ]
}