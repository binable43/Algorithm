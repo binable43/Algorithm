{
  "nbformat": 4,
  "nbformat_minor": 0,
  "metadata": {
    "colab": {
      "name": "BOJ_1526.ipynb",
      "provenance": [],
      "collapsed_sections": []
    },
    "kernelspec": {
      "name": "python3",
      "display_name": "Python 3"
    },
    "language_info": {
      "name": "python"
    }
  },
  "cells": [
    {
      "cell_type": "code",
      "metadata": {
        "id": "RCotkjVo1_b-"
      },
      "source": [
        "#가장 큰 금민수"
      ],
      "execution_count": null,
      "outputs": []
    },
    {
      "cell_type": "code",
      "metadata": {
        "colab": {
          "base_uri": "https://localhost:8080/"
        },
        "id": "N0RU7rlp2Cfe",
        "outputId": "22b67fca-bdfe-4810-f8b0-9a445713a65f"
      },
      "source": [
        "number = int(input())\n",
        "\n",
        "for i in range (number, 3, -1):\n",
        "  if all([(s == '4' or s == '7') for s in str(i)]):\n",
        "    print(i)\n",
        "    break"
      ],
      "execution_count": 15,
      "outputs": [
        {
          "output_type": "stream",
          "text": [
            "12345\n",
            "7777\n"
          ],
          "name": "stdout"
        }
      ]
    }
  ]
}