{
  "nbformat": 4,
  "nbformat_minor": 0,
  "metadata": {
    "colab": {
      "name": "BOJ_1003.ipynb",
      "provenance": [],
      "collapsed_sections": [],
      "authorship_tag": "ABX9TyMXUQEI2aBhYVWKG6/fbg/h",
      "include_colab_link": true
    },
    "kernelspec": {
      "name": "python3",
      "display_name": "Python 3"
    },
    "language_info": {
      "name": "python"
    }
  },
  "cells": [
    {
      "cell_type": "markdown",
      "metadata": {
        "id": "view-in-github",
        "colab_type": "text"
      },
      "source": [
        "<a href=\"https://colab.research.google.com/github/binable43/BOJ_Python/blob/main/BOJ_1003.ipynb\" target=\"_parent\"><img src=\"https://colab.research.google.com/assets/colab-badge.svg\" alt=\"Open In Colab\"/></a>"
      ]
    },
    {
      "cell_type": "code",
      "metadata": {
        "id": "5Rh6QaUUzhPD"
      },
      "source": [
        "#피보나치 함수"
      ],
      "execution_count": null,
      "outputs": []
    },
    {
      "cell_type": "code",
      "metadata": {
        "colab": {
          "base_uri": "https://localhost:8080/"
        },
        "id": "OxPMX1Jazsr0",
        "outputId": "94e94320-4846-4e5a-fd96-78283f9380b5"
      },
      "source": [
        "t = int(input())\n",
        "zero = [1,0,1]\n",
        "one = [0,1,1]\n",
        "\n",
        "def fibo(n) : \n",
        "    if len(zero) <= n :\n",
        "        for i in range(len(zero), n+1) :\n",
        "            zero.append(zero[i-1]+zero[i-2])\n",
        "            one.append(one[i-1]+one[i-2])\n",
        "    print(zero[n],one[n])\n",
        "\n",
        "for i in range(t) : \n",
        "    a = int(input()) \n",
        "    fibo(a)"
      ],
      "execution_count": 17,
      "outputs": [
        {
          "output_type": "stream",
          "text": [
            "3\n",
            "0\n",
            "1 0\n",
            "1\n",
            "0 1\n",
            "3\n",
            "1 2\n"
          ],
          "name": "stdout"
        }
      ]
    }
  ]
}