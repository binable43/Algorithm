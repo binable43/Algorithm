{
  "nbformat": 4,
  "nbformat_minor": 0,
  "metadata": {
    "colab": {
      "name": "BOJ_2822.ipynb",
      "provenance": [],
      "collapsed_sections": [],
      "authorship_tag": "ABX9TyOJ2EOX7w8dpYXJGIAae5ye",
      "include_colab_link": true
    },
    "kernelspec": {
      "name": "python3",
      "display_name": "Python 3"
    },
    "language_info": {
      "name": "python"
    }
  },
  "cells": [
    {
      "cell_type": "markdown",
      "metadata": {
        "id": "view-in-github",
        "colab_type": "text"
      },
      "source": [
        "<a href=\"https://colab.research.google.com/github/binable43/BOJ_Python/blob/main/BOJ_2822.ipynb\" target=\"_parent\"><img src=\"https://colab.research.google.com/assets/colab-badge.svg\" alt=\"Open In Colab\"/></a>"
      ]
    },
    {
      "cell_type": "code",
      "metadata": {
        "id": "_P7ZKSXQQ2tv"
      },
      "source": [
        "#점수 계산"
      ],
      "execution_count": null,
      "outputs": []
    },
    {
      "cell_type": "code",
      "metadata": {
        "colab": {
          "base_uri": "https://localhost:8080/"
        },
        "id": "snRy-8qsTikt",
        "outputId": "8cb52880-1f49-445c-8fea-279f8dc88e75"
      },
      "source": [
        "n = []\n",
        "\n",
        "for _ in range(8):\n",
        "  n.append(int(input()))\n",
        "\n",
        "n_sort = sorted(n, reverse=True)\n",
        "\n",
        "b = []\n",
        "for i in range(5):\n",
        "  b.append(n_sort[i])\n",
        "\n",
        "sum = 0\n",
        "tmp = []\n",
        "for i in b:\n",
        "  sum += i\n",
        "  tmp.append(n.index(i))\n",
        "\n",
        "print(sum)\n",
        "tmp_sort = sorted(tmp)\n",
        "\n",
        "for i in tmp_sort :\n",
        "  print(i+1, end=' ')"
      ],
      "execution_count": 17,
      "outputs": [
        {
          "output_type": "stream",
          "text": [
            "20\n",
            "30\n",
            "50\n",
            "48\n",
            "33\n",
            "66\n",
            "0\n",
            "64\n",
            "261\n",
            "34568"
          ],
          "name": "stdout"
        }
      ]
    }
  ]
}