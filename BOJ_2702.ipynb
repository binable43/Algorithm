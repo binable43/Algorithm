{
  "nbformat": 4,
  "nbformat_minor": 0,
  "metadata": {
    "colab": {
      "name": "BOJ_2702.ipynb",
      "provenance": [],
      "collapsed_sections": []
    },
    "kernelspec": {
      "name": "python3",
      "display_name": "Python 3"
    },
    "language_info": {
      "name": "python"
    }
  },
  "cells": [
    {
      "cell_type": "code",
      "metadata": {
        "id": "sxKVf2Lbq1BR"
      },
      "source": [
        "#초6 수학"
      ],
      "execution_count": null,
      "outputs": []
    },
    {
      "cell_type": "code",
      "metadata": {
        "colab": {
          "base_uri": "https://localhost:8080/"
        },
        "id": "i3oF5cKzyVNB",
        "outputId": "8a6963c7-a335-4d39-cac3-001b4b807b46"
      },
      "source": [
        "def lcm(a, b):\n",
        "    return int((a * b) / gcd(a, b))\n",
        "\n",
        "def gcd(a, b):\n",
        "    if a == 0:\n",
        "        return b\n",
        "    else:\n",
        "        return gcd(b % a, a)\n",
        "\n",
        "t = int(input())\n",
        "for i in range(t):\n",
        "    a, b = map(int, input().split())\n",
        "    print(lcm(a, b), gcd(a, b))"
      ],
      "execution_count": 25,
      "outputs": [
        {
          "output_type": "stream",
          "text": [
            "3\n",
            "5 10\n",
            "10 5\n",
            "7 23\n",
            "161 1\n",
            "42 56\n",
            "168 14\n"
          ],
          "name": "stdout"
        }
      ]
    }
  ]
}