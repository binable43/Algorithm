{
  "nbformat": 4,
  "nbformat_minor": 0,
  "metadata": {
    "colab": {
      "name": "BOJ_1026.ipynb",
      "provenance": [],
      "collapsed_sections": []
    },
    "kernelspec": {
      "name": "python3",
      "display_name": "Python 3"
    },
    "language_info": {
      "name": "python"
    }
  },
  "cells": [
    {
      "cell_type": "code",
      "metadata": {
        "colab": {
          "base_uri": "https://localhost:8080/"
        },
        "id": "ZL-X8wbkTXjJ",
        "outputId": "5f1a3b02-0320-4496-b4bd-30d3468b1361"
      },
      "source": [
        "import random\n",
        "\n",
        "n = int(input())\n",
        "a = list(map(int, input().split()))\n",
        "b = list(map(int, input().split()))\n",
        "\n",
        "\n",
        "a.sort(reverse=True)\n",
        "b.sort()\n",
        "\n",
        "c = 0\n",
        "sum = 0\n",
        "\n",
        "for i in a:\n",
        "  sum += i*b[c]\n",
        "  c += 1\n",
        "\n",
        "print(sum)"
      ],
      "execution_count": 17,
      "outputs": [
        {
          "output_type": "stream",
          "text": [
            "5\n",
            "1 1 1 6 0\n",
            "2 7 8 3 1\n",
            "18\n"
          ],
          "name": "stdout"
        }
      ]
    }
  ]
}