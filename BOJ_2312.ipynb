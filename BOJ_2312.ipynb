{
  "nbformat": 4,
  "nbformat_minor": 0,
  "metadata": {
    "colab": {
      "name": "BOJ_2312.ipynb",
      "provenance": [],
      "collapsed_sections": []
    },
    "kernelspec": {
      "name": "python3",
      "display_name": "Python 3"
    },
    "language_info": {
      "name": "python"
    }
  },
  "cells": [
    {
      "cell_type": "code",
      "metadata": {
        "id": "DwhjL___Dbos"
      },
      "source": [
        "#수 복원하기"
      ],
      "execution_count": null,
      "outputs": []
    },
    {
      "cell_type": "code",
      "metadata": {
        "colab": {
          "base_uri": "https://localhost:8080/"
        },
        "id": "9sKbOPcDDgTG",
        "outputId": "a759ac47-df07-44a9-aa68-d2df45dd5c49"
      },
      "source": [
        "a = int(input())\n",
        "\n",
        "for _ in range (a):\n",
        "  n = int(input())\n",
        "  for i in range(2, n+1):\n",
        "    c = 0\n",
        "    if n % i == 0:\n",
        "      while n % i == 0:\n",
        "        n = n//i\n",
        "        c += 1\n",
        "      print(\"%d %d\" %(i, c))\n",
        "    elif a == 1:\n",
        "      break"
      ],
      "execution_count": 1,
      "outputs": [
        {
          "output_type": "stream",
          "text": [
            "2\n",
            "6\n",
            "2 1\n",
            "3 1\n",
            "24\n",
            "2 3\n",
            "3 1\n"
          ],
          "name": "stdout"
        }
      ]
    }
  ]
}