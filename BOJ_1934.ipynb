{
  "nbformat": 4,
  "nbformat_minor": 0,
  "metadata": {
    "colab": {
      "name": "BOJ_1934.ipynb",
      "provenance": [],
      "collapsed_sections": []
    },
    "kernelspec": {
      "name": "python3",
      "display_name": "Python 3"
    },
    "language_info": {
      "name": "python"
    }
  },
  "cells": [
    {
      "cell_type": "code",
      "metadata": {
        "id": "reSCN3MvDxnE"
      },
      "source": [
        "#최소공배수"
      ],
      "execution_count": null,
      "outputs": []
    },
    {
      "cell_type": "code",
      "metadata": {
        "colab": {
          "base_uri": "https://localhost:8080/"
        },
        "id": "Bc0A4VnFEAh3",
        "outputId": "3ccdb01a-c0d5-4288-fe2a-eac196ad979a"
      },
      "source": [
        "def gcd(a, b):\n",
        "    return gcd(b, a % b) if b else a\n",
        "def lcm(a, b):\n",
        "    return a * b // gcd(a, b)\n",
        "\n",
        "t = int(input())\n",
        "for i in range(t):\n",
        "    a, b = map(int, input().split())\n",
        "    print(lcm(a, b))"
      ],
      "execution_count": 1,
      "outputs": [
        {
          "output_type": "stream",
          "text": [
            "3\n",
            "1 45000\n",
            "45000\n",
            "6 10\n",
            "30\n",
            "13 17\n",
            "221\n"
          ],
          "name": "stdout"
        }
      ]
    }
  ]
}