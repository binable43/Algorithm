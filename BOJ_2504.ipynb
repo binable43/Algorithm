{
  "nbformat": 4,
  "nbformat_minor": 0,
  "metadata": {
    "colab": {
      "name": "BOJ_2504.ipynb",
      "provenance": [],
      "authorship_tag": "ABX9TyMeibtC9KWUTDk/YVWmoZjv",
      "include_colab_link": true
    },
    "kernelspec": {
      "name": "python3",
      "display_name": "Python 3"
    },
    "language_info": {
      "name": "python"
    }
  },
  "cells": [
    {
      "cell_type": "markdown",
      "metadata": {
        "id": "view-in-github",
        "colab_type": "text"
      },
      "source": [
        "<a href=\"https://colab.research.google.com/github/binable43/BOJ_Python/blob/main/BOJ_2504.ipynb\" target=\"_parent\"><img src=\"https://colab.research.google.com/assets/colab-badge.svg\" alt=\"Open In Colab\"/></a>"
      ]
    },
    {
      "cell_type": "code",
      "metadata": {
        "id": "QBEBtYld36rN"
      },
      "source": [
        "#괄호의 값"
      ],
      "execution_count": null,
      "outputs": []
    },
    {
      "cell_type": "code",
      "metadata": {
        "colab": {
          "base_uri": "https://localhost:8080/"
        },
        "id": "3Ua3YAtU3peH",
        "outputId": "b3f4525a-4acf-4f17-97b4-a73e1cda41cc"
      },
      "source": [
        "s = input()\n",
        " \n",
        "def is_check(s):   \n",
        "    stack = []\n",
        "    flag = True\n",
        " \n",
        "    for i in range(len(s)):\n",
        "        if s[i] == '(' or s[i] == '[':\n",
        "            stack.append(s[i])\n",
        " \n",
        "        else:    # ) ]\n",
        "            if s[i] == ')':\n",
        "                if stack and stack[-1] == '(':\n",
        "                    stack.pop()\n",
        "                else:\n",
        "                    flag = False\n",
        " \n",
        "            else:    # ]\n",
        "                if stack and stack[-1] == '[':\n",
        "                    stack.pop()\n",
        "                else:\n",
        "                    flag = False\n",
        " \n",
        "    if not stack and flag:\n",
        "        return True\n",
        "    return False\n",
        " \n",
        "def calc_value(s):    \n",
        "    stack = []\n",
        "    for i in range(len(s)):\n",
        "        if s[i] == '(' or s[i] == '[':\n",
        "            stack.append(s[i])\n",
        " \n",
        "        else:    # ) ]\n",
        "            if s[i] == ')':\n",
        "                if stack[-1] == '(':\n",
        "                    stack[-1] = 2\n",
        "                else:    \n",
        "                    temp = 0\n",
        "                    for idx in range(len(stack)-1, -1, -1):   \n",
        "                        if stack[idx] == '(':    \n",
        "                            stack[-1] = temp * 2\n",
        "                            break\n",
        "                        else:    \n",
        "                            temp += stack[-1]\n",
        "                            stack.pop()\n",
        " \n",
        "            else:    # ]\n",
        "                if stack[-1] == '[':\n",
        "                    stack[-1] = 3\n",
        "                else:    \n",
        "                    temp = 0\n",
        "                    for idx in range(len(stack)-1, -1, -1):    \n",
        "                        if stack[idx] == '[':     \n",
        "                            stack[-1] = temp * 3\n",
        "                            break\n",
        "                        else:    \n",
        "                            temp += stack[-1]\n",
        "                            stack.pop()\n",
        "    return sum(stack)\n",
        " \n",
        "if is_check(s):\n",
        "    print(calc_value(s))\n",
        "else:\n",
        "    print(0)"
      ],
      "execution_count": 1,
      "outputs": [
        {
          "output_type": "stream",
          "text": [
            "(()[[]])([])\n",
            "28\n"
          ],
          "name": "stdout"
        }
      ]
    }
  ]
}