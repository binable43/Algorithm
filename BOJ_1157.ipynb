{
  "nbformat": 4,
  "nbformat_minor": 0,
  "metadata": {
    "colab": {
      "name": "BOJ_1157.ipynb",
      "provenance": [],
      "collapsed_sections": []
    },
    "kernelspec": {
      "name": "python3",
      "display_name": "Python 3"
    },
    "language_info": {
      "name": "python"
    }
  },
  "cells": [
    {
      "cell_type": "code",
      "metadata": {
        "id": "NkcJkz2237Ci"
      },
      "source": [
        "#단어 공부"
      ],
      "execution_count": null,
      "outputs": []
    },
    {
      "cell_type": "code",
      "metadata": {
        "colab": {
          "base_uri": "https://localhost:8080/"
        },
        "id": "CbAjmJlx4Qcw",
        "outputId": "5a04ea22-71b3-4c74-8f16-31984267c07c"
      },
      "source": [
        "string = input()\n",
        "string = string.upper()\n",
        "string_set = list(set(string))\n",
        "\n",
        "a = []\n",
        "\n",
        "for i in string_set:\n",
        "  a.append(string.count(i))\n",
        "\n",
        "if len(list(filter(lambda x: a[x] == max(a), range(len(a)))))>1:\n",
        "  print(\"?\")\n",
        "else:\n",
        "  print(string_set[a.index(max(a))].upper())"
      ],
      "execution_count": 2,
      "outputs": [
        {
          "output_type": "stream",
          "text": [
            "zZa\n",
            "Z\n"
          ],
          "name": "stdout"
        }
      ]
    }
  ]
}