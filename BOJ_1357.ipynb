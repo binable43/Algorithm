{
  "nbformat": 4,
  "nbformat_minor": 0,
  "metadata": {
    "colab": {
      "name": "BOJ_1357.ipynb",
      "provenance": [],
      "collapsed_sections": []
    },
    "kernelspec": {
      "name": "python3",
      "display_name": "Python 3"
    },
    "language_info": {
      "name": "python"
    }
  },
  "cells": [
    {
      "cell_type": "code",
      "metadata": {
        "id": "njqpfNdtAPQ_"
      },
      "source": [
        "#뒤집힌 덧셈"
      ],
      "execution_count": null,
      "outputs": []
    },
    {
      "cell_type": "code",
      "metadata": {
        "colab": {
          "base_uri": "https://localhost:8080/"
        },
        "id": "6Dsh0j19C4db",
        "outputId": "9bdac236-9989-48e6-b6ac-ce1d41479ed7"
      },
      "source": [
        "a, b = input().split()\n",
        "\n",
        "n = str(int(a[::-1]) + int(b[::-1]))\n",
        "print(int(n[::-1]))\n"
      ],
      "execution_count": 19,
      "outputs": [
        {
          "output_type": "stream",
          "text": [
            "123 100\n",
            "223\n"
          ],
          "name": "stdout"
        }
      ]
    }
  ]
}