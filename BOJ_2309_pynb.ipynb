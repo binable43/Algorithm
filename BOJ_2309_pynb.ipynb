{
  "nbformat": 4,
  "nbformat_minor": 0,
  "metadata": {
    "colab": {
      "name": "BOJ_2309.pynb",
      "provenance": [],
      "collapsed_sections": [],
      "authorship_tag": "ABX9TyNrD8E5YZaWYjvnkthNSHdZ",
      "include_colab_link": true
    },
    "kernelspec": {
      "name": "python3",
      "display_name": "Python 3"
    },
    "language_info": {
      "name": "python"
    }
  },
  "cells": [
    {
      "cell_type": "markdown",
      "metadata": {
        "id": "view-in-github",
        "colab_type": "text"
      },
      "source": [
        "<a href=\"https://colab.research.google.com/github/binable43/BOJ_Python/blob/main/BOJ_2309_pynb.ipynb\" target=\"_parent\"><img src=\"https://colab.research.google.com/assets/colab-badge.svg\" alt=\"Open In Colab\"/></a>"
      ]
    },
    {
      "cell_type": "code",
      "metadata": {
        "id": "MNYERq72F684"
      },
      "source": [
        "#일곱 난쟁이"
      ],
      "execution_count": null,
      "outputs": []
    },
    {
      "cell_type": "code",
      "metadata": {
        "colab": {
          "base_uri": "https://localhost:8080/"
        },
        "id": "_MkS02ULGX-r",
        "outputId": "7207b6cb-e292-4f48-d9a4-2d7af5a76723"
      },
      "source": [
        "h = []\n",
        "\n",
        "for _ in range(9):\n",
        "  a = int(input())\n",
        "  h.append(a)\n",
        "\n",
        "sum_h = sum(h)\n",
        "\n",
        "n = 0\n",
        "m = 0\n",
        "\n",
        "for i in range(8):\n",
        "  for j in range(i+1, 9):\n",
        "    if sum_h - (h[i]+h[j]) == 100:\n",
        "      n = h[i]\n",
        "      m = h[j]\n",
        "\n",
        "h.remove(n)\n",
        "h.remove(m)\n",
        "h.sort()\n",
        "\n",
        "for i in h:\n",
        "  print(i)"
      ],
      "execution_count": 1,
      "outputs": [
        {
          "output_type": "stream",
          "text": [
            "20\n",
            "7\n",
            "23\n",
            "19\n",
            "10\n",
            "15\n",
            "25\n",
            "8\n",
            "13\n",
            "7\n",
            "8\n",
            "10\n",
            "13\n",
            "19\n",
            "20\n",
            "23\n"
          ],
          "name": "stdout"
        }
      ]
    }
  ]
}