{
  "nbformat": 4,
  "nbformat_minor": 0,
  "metadata": {
    "colab": {
      "name": "BOJ_1100.ipynb",
      "provenance": [],
      "collapsed_sections": []
    },
    "kernelspec": {
      "name": "python3",
      "display_name": "Python 3"
    },
    "language_info": {
      "name": "python"
    }
  },
  "cells": [
    {
      "cell_type": "code",
      "metadata": {
        "id": "OXzKH2n2oEnr"
      },
      "source": [
        "#하얀 칸"
      ],
      "execution_count": null,
      "outputs": []
    },
    {
      "cell_type": "code",
      "metadata": {
        "id": "jeLHWSqaortE"
      },
      "source": [
        "import sys\n",
        "\n",
        "input = sys.stdin.readline\n",
        "\n",
        "board = []\n",
        "\n",
        "for i in range(8):\n",
        "  board.append(list(map(str, input())))\n",
        "\n",
        "result = 0\n",
        "\n",
        "for i in range(8):\n",
        "  for j in range(8):\n",
        "    if (i+j)%2 == 0:\n",
        "      if board[i][j] == 'F':\n",
        "        result += 1\n",
        "\n",
        "print(result)"
      ],
      "execution_count": null,
      "outputs": []
    }
  ]
}