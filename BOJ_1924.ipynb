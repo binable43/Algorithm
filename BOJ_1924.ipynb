{
  "nbformat": 4,
  "nbformat_minor": 0,
  "metadata": {
    "colab": {
      "name": "BOJ_1924.ipynb",
      "provenance": [],
      "collapsed_sections": []
    },
    "kernelspec": {
      "name": "python3",
      "display_name": "Python 3"
    },
    "language_info": {
      "name": "python"
    }
  },
  "cells": [
    {
      "cell_type": "code",
      "metadata": {
        "id": "YX8DJzLRElO-"
      },
      "source": [
        "#2007년"
      ],
      "execution_count": null,
      "outputs": []
    },
    {
      "cell_type": "code",
      "metadata": {
        "colab": {
          "base_uri": "https://localhost:8080/"
        },
        "id": "0IuDY_BHEo5N",
        "outputId": "0af7e9ea-75b1-4cd8-b457-60353302525f"
      },
      "source": [
        "a = ['SUN', 'MON', 'TUE', 'WED', 'THU', 'FRI', 'SAT']\n",
        "b = [31, 28, 31, 30, 31, 30, 31, 31, 30, 31, 30]\n",
        "\n",
        "m, n = map(int, input().split())\n",
        "\n",
        "day = sum(b[:(m-1)]) + n\n",
        "print(a[day%7])"
      ],
      "execution_count": 3,
      "outputs": [
        {
          "output_type": "stream",
          "text": [
            "3 14\n",
            "WED\n"
          ],
          "name": "stdout"
        }
      ]
    }
  ]
}