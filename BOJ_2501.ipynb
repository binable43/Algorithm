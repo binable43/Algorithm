{
  "nbformat": 4,
  "nbformat_minor": 0,
  "metadata": {
    "colab": {
      "name": "BOJ_2501.ipynb",
      "provenance": [],
      "collapsed_sections": []
    },
    "kernelspec": {
      "name": "python3",
      "display_name": "Python 3"
    },
    "language_info": {
      "name": "python"
    }
  },
  "cells": [
    {
      "cell_type": "code",
      "metadata": {
        "id": "3hKHgSo3xNCy"
      },
      "source": [
        "#약수 구하기"
      ],
      "execution_count": null,
      "outputs": []
    },
    {
      "cell_type": "code",
      "metadata": {
        "colab": {
          "base_uri": "https://localhost:8080/"
        },
        "id": "pN0tjcmzyMKE",
        "outputId": "c92afd7a-bc50-48d5-dd95-b0f9d3756e84"
      },
      "source": [
        "n, m = map(int, input().split())\n",
        "\n",
        "a = []\n",
        "\n",
        "for i in range(1, n+1):\n",
        "  if n % i == 0:\n",
        "    a.append(i)\n",
        "  else:\n",
        "    continue\n",
        "\n",
        "if m-1 < len(a):\n",
        "  print(a[m-1])\n",
        "else:\n",
        "  print(0)"
      ],
      "execution_count": 5,
      "outputs": [
        {
          "output_type": "stream",
          "text": [
            "25 4\n",
            "0\n"
          ],
          "name": "stdout"
        }
      ]
    }
  ]
}