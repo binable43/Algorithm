{
  "nbformat": 4,
  "nbformat_minor": 0,
  "metadata": {
    "colab": {
      "name": "BOJ_11653.ipynb",
      "provenance": [],
      "collapsed_sections": []
    },
    "kernelspec": {
      "name": "python3",
      "display_name": "Python 3"
    },
    "language_info": {
      "name": "python"
    }
  },
  "cells": [
    {
      "cell_type": "code",
      "metadata": {
        "id": "WJldoVrjKjLA"
      },
      "source": [
        "#소인수분해"
      ],
      "execution_count": null,
      "outputs": []
    },
    {
      "cell_type": "code",
      "metadata": {
        "colab": {
          "base_uri": "https://localhost:8080/"
        },
        "id": "LwBGtgAMKsOO",
        "outputId": "cdbf4a9f-e711-4560-b2ba-243a02e5fa47"
      },
      "source": [
        "n = int(input())\n",
        "a = 2\n",
        "\n",
        "while n > 1:\n",
        "  if n % a == 0:\n",
        "    print(a)\n",
        "    n = n//a\n",
        "  else:\n",
        "    a += 1"
      ],
      "execution_count": 4,
      "outputs": [
        {
          "output_type": "stream",
          "text": [
            "72\n",
            "2\n",
            "2\n",
            "2\n",
            "3\n",
            "3\n"
          ],
          "name": "stdout"
        }
      ]
    }
  ]
}